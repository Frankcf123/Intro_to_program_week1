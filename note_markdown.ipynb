{
 "cells": [
  {
   "cell_type": "markdown",
   "metadata": {},
   "source": [
    "# The largest heading"
   ]
  },
  {
   "cell_type": "markdown",
   "metadata": {},
   "source": [
    "## The second largest heading\n",
    "###### The smallest heading"
   ]
  },
  {
   "cell_type": "markdown",
   "metadata": {},
   "source": [
    "> Pardon my French"
   ]
  },
  {
   "cell_type": "markdown",
   "metadata": {},
   "source": [
    "Use `git status` to list all new or modified files that haven't yet been committed."
   ]
  },
  {
   "cell_type": "markdown",
   "metadata": {},
   "source": [
    "Some basic Git commands are:\n",
    "```\n",
    "git status\n",
    "git add\n",
    "git commit\n",
    "```"
   ]
  },
  {
   "cell_type": "markdown",
   "metadata": {},
   "source": [
    "This site was built using [GitHub Pages](https://pages.github.com/).\n",
    "\n"
   ]
  },
  {
   "cell_type": "markdown",
   "metadata": {},
   "source": [
    "- George Washington\n",
    "- John Adams\n",
    "- Thomas Jefferson"
   ]
  },
  {
   "cell_type": "markdown",
   "metadata": {},
   "source": [
    "1. James Madison\n",
    "2. James Monroe\n",
    "3. John Quincy Adams"
   ]
  },
  {
   "cell_type": "markdown",
   "metadata": {},
   "source": [
    "1. First list item in first line.\n",
    "   - First nested list item\n",
    "     - Second nested list item"
   ]
  },
  {
   "cell_type": "markdown",
   "metadata": {},
   "source": [
    "100. First list item in first line.\n",
    "     - First nested list item\n",
    "      - Second nested list item."
   ]
  },
  {
   "cell_type": "markdown",
   "metadata": {},
   "source": [
    "- New List\n",
    "  - New idea\n",
    "  - Another new idea"
   ]
  },
  {
   "cell_type": "markdown",
   "metadata": {},
   "source": [
    "- [x] Finish my changes\n",
    "- [ ] Push my commits to GitHub\n",
    "- [ ] Open a pull request"
   ]
  },
  {
   "cell_type": "markdown",
   "metadata": {},
   "source": [
    "@github/support What do you think about these updates?\n",
    "\n"
   ]
  },
  {
   "cell_type": "markdown",
   "metadata": {},
   "source": [
    "@octocat :+1: This PR looks great - it's ready to merge! :shipit:\n",
    "\n"
   ]
  },
  {
   "cell_type": "code",
   "execution_count": null,
   "metadata": {
    "collapsed": true
   },
   "outputs": [],
   "source": []
  }
 ],
 "metadata": {
  "kernelspec": {
   "display_name": "Python 3",
   "language": "python",
   "name": "python3"
  },
  "language_info": {
   "codemirror_mode": {
    "name": "ipython",
    "version": 3
   },
   "file_extension": ".py",
   "mimetype": "text/x-python",
   "name": "python",
   "nbconvert_exporter": "python",
   "pygments_lexer": "ipython3",
   "version": "3.6.2"
  }
 },
 "nbformat": 4,
 "nbformat_minor": 2
}

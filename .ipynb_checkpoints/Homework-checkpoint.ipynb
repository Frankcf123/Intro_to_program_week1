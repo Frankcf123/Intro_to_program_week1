{
 "cells": [
  {
   "cell_type": "markdown",
   "metadata": {},
   "source": [
    "# Homework"
   ]
  },
  {
   "cell_type": "markdown",
   "metadata": {},
   "source": [
    "1. 观看视频，完成相应安装练习\n",
    "2. 创建一个conda的环境，包含python3.6，以及jupyter notebook。\n",
    "3. 写一个hello world程序，执行，并且用markdown写下标题和注解\n",
    "4. 将创建的环境输出yaml文件，并且和hello world程序一起上传到自己的github上。\n",
    "5. 将作为发到公众账号codingpupils"
   ]
  },
  {
   "cell_type": "code",
   "execution_count": null,
   "metadata": {
    "collapsed": true
   },
   "outputs": [],
   "source": []
  }
 ],
 "metadata": {
  "kernelspec": {
   "display_name": "Python 3",
   "language": "python",
   "name": "python3"
  },
  "language_info": {
   "codemirror_mode": {
    "name": "ipython",
    "version": 3
   },
   "file_extension": ".py",
   "mimetype": "text/x-python",
   "name": "python",
   "nbconvert_exporter": "python",
   "pygments_lexer": "ipython3",
   "version": "3.6.2"
  }
 },
 "nbformat": 4,
 "nbformat_minor": 2
}
